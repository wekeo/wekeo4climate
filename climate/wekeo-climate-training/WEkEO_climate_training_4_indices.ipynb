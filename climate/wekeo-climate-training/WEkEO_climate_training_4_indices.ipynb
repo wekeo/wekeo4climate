{
 "cells": [
  {
   "cell_type": "markdown",
   "metadata": {},
   "source": [
    "<img src='./img/LogoWekeo_Copernicus_RGB_0.png' align='right' width='20%'></img>"
   ]
  },
  {
   "cell_type": "markdown",
   "metadata": {},
   "source": [
    "# Tutorial on creating a climate index for wind chill\n",
    "In this tutorial we will plot a map of wind chill over Europe using regional climate reanalysis data (UERRA) of wind speed and temperature. From the WEkEO Jupyterhub we will download this data from the WEkEO HDA API Client. The tutorial comprises the following steps:\n",
    "\n",
    "1. [Search and download](#search_download) regional climate reanalysis data (UERRA) of 10m wind speed and 2m temperature.\n",
    "2. [Read data](#read_data): Once downloaded, we will read and understand the data, including its variables and coordinates.\n",
    "3. [Calculate wind chill index](#wind_chill): We will calculate the wind chill index from the two parameters of wind speed and temperature, and view a map of average wind chill over Europe.\n",
    "4. [Calculate wind chill with ERA5](#era5): In order to assess the reliability of the results, repeat the process with ERA5 reanalysis data and compare the results with those derived with UERRA."
   ]
  },
  {
   "cell_type": "markdown",
   "metadata": {},
   "source": [
    "<img src='./img/climate_indices.png' align='center' width='100%'></img>"
   ]
  },
  {
   "cell_type": "markdown",
   "metadata": {},
   "source": [
    "## <a id='search_download'></a>1. Search and download data\n",
    "\n",
    "Before we begin we must prepare our environment. This includes installing the HDA Application Programming Interface (API) Client, and importing the various python libraries that we will need."
   ]
  },
  {
   "cell_type": "markdown",
   "metadata": {},
   "source": [
    "#### Import libraries\n",
    "\n",
    "We will be working with data in NetCDF format. To best handle this data we need a number of libraries for working with multidimensional arrays, in particular Xarray. We will also need libraries for plotting and viewing data, in particular Matplotlib and Cartopy."
   ]
  },
  {
   "cell_type": "code",
   "execution_count": null,
   "metadata": {},
   "outputs": [],
   "source": [
    "# Libraries for working with multidimensional arrays\n",
    "import numpy as np\n",
    "import xarray as xr\n",
    "import os\n",
    "import glob\n",
    "\n",
    "# Libraries for plotting and visualising data\n",
    "import matplotlib.path as mpath\n",
    "import matplotlib.pyplot as plt\n",
    "import cartopy.crs as ccrs\n",
    "import cartopy.feature as cfeature"
   ]
  },
  {
   "cell_type": "markdown",
   "metadata": {},
   "source": [
    "#### Install the WEkEO HDA client"
   ]
  },
  {
   "cell_type": "markdown",
   "metadata": {},
   "source": [
    "The WEkEO HDA client is a python based library. To install the  HDA API Client, run the following command. We use an exclamation mark to pass the command to the shell (not to the Python interpreter)."
   ]
  },
  {
   "cell_type": "markdown",
   "metadata": {},
   "source": [
    "In order to install the WEkEO HDA client via the package management system pip, you have to running on Unix/Linux the command shown below."
   ]
  },
  {
   "cell_type": "code",
   "execution_count": null,
   "metadata": {},
   "outputs": [],
   "source": [
    "pip install -U hda"
   ]
  },
  {
   "cell_type": "markdown",
   "metadata": {},
   "source": [
    "Please verify the following requirements are installed before skipping to the next step:\n",
    "   - Python 3\n",
    "   - requests\n",
    "   - tqdm"
   ]
  },
  {
   "cell_type": "markdown",
   "metadata": {},
   "source": [
    "#### Load WEkEO HDA client"
   ]
  },
  {
   "cell_type": "markdown",
   "metadata": {},
   "source": [
    "The hda client provides a fully compliant Python 3 client that can be used to search and download products using the Harmonized Data Access WEkEO API.\n",
    "HDA is RESTful interface allowing users to search and download WEkEO datasets.\n",
    "Documentation about its usage can be found at the <a href='https://www.wekeo.eu/' target='_blank'>WEkEO website</a>."
   ]
  },
  {
   "cell_type": "code",
   "execution_count": null,
   "metadata": {},
   "outputs": [],
   "source": [
    "from hda import Client"
   ]
  },
  {
   "cell_type": "markdown",
   "metadata": {},
   "source": [
    "### <a id='wekeo_search'></a>2. Search for datasets on WEkEO"
   ]
  },
  {
   "cell_type": "markdown",
   "metadata": {},
   "source": [
    "Under <a href='https://wekeo.eu/data?view=catalogue' target='_blank'>WEkEO DATA</a>. Clicking the + to add a layer, opens a catalogue search. Here you can use free text, or you can use the filter options on the left to refine your search and look by satellite plaform, sensor, Copernicus service, area (region of interest), general time period (past or future), as well as through a variety of flags.\n",
    "\n",
    "You can click on the dataset you are interested in and you will be guided to a range of details including the dataset temporal and spatial extent, collection ID, and metadata.\n",
    "\n",
    "Now search for the product `UERRA regional reanalysis for Europe on single levels from 1961 to 2019`. You can find it more easily by selecting 'UERRA' in the 'COPERNICUS SERVICE' filter group. \n",
    "\n",
    "Once you have found it, select 'Details' to read the dataset description.\n",
    "\n",
    "<br>\n",
    "\n",
    "<div style='text-align:center;'>\n",
    "<figure><img src='./img/WEKEO_UERRA_data.png' width='70%' />\n",
    "    <figcaption><i>WEkEO interface to search for datasets</i></figcaption>\n",
    "</figure>\n",
    "</div>"
   ]
  },
  {
   "cell_type": "markdown",
   "metadata": {},
   "source": [
    "The dataset description provides the following information:\n",
    "- **Abstract**, containing a general description of the dataset,\n",
    "- **Classification**, including the Dataset ID \n",
    "- **Resources**, such as a link to the Product Data Format Specification guide, and JSON metadata\n",
    "- **Contacts**, where you can find further information about the data source from its provider.  \n",
    "\n",
    "You need the `Dataset ID` to request data from the Harmonised Data Access API. \n",
    "\n",
    "<br>\n",
    "\n",
    "<div style='text-align:center;'>\n",
    "<figure><img src='./img/UERRA_info.png' width='50%' />\n",
    "    <figcaption><i>Dataset information on WEkEO</i></figcaption>\n",
    "</figure>\n",
    "</div>\n",
    "<br>\n",
    "\n",
    "Let's store the Dataset ID as a variable called `dataset_id` to be used later."
   ]
  },
  {
   "cell_type": "code",
   "execution_count": null,
   "metadata": {},
   "outputs": [],
   "source": [
    "dataset_id = \"EO:ECMWF:DAT:REANALYSIS_UERRA_EUROPE_SINGLE_LEVELS\""
   ]
  },
  {
   "cell_type": "markdown",
   "metadata": {},
   "source": [
    "Now select `Add to map` in the data description to add the selected dataset to the list of layers in your map view. Once the dataset appears as a layer, select the `subset and download` icon. This will enable you to specify the variables, temporal and in some cases geographic extent of the data you would like to download. Select the dataset information and then select `NetCDF` as format.\n",
    "\n",
    "Now select `Show API request`. This will show the details of your selection in `JSON` format. If you now select `Copy`, you can copy these details to the clipboard then paste it either into a text file to create a `JSON` file (see example [here](./SeaLevel_data_descriptor.json)), or paste it directly into the cell below.\n",
    "\n",
    "The Harmonised Data Access API can read this information, which is in the form of a dictionary.\n",
    "\n",
    "<br>\n",
    "\n",
    "<div style='text-align:center;'>\n",
    "<figure><img src='./img/WEKEO_UERRA_params_json.png' width='60%' />\n",
    "    <figcaption><i>Displaying a JSON query from a request made to the Harmonised Data Access API through the data portal</i></figcaption>\n",
    "</figure>\n",
    "</div>\n",
    "<br>"
   ]
  },
  {
   "cell_type": "markdown",
   "metadata": {},
   "source": [
    "#### Configure the WEkEO API Authentication"
   ]
  },
  {
   "cell_type": "markdown",
   "metadata": {},
   "source": [
    "In order to interact with WEkEO's Harmonised Data Access API, each user first makes sure the file \"$HOME/.hdarc\" exists with the URL to the API end point and your user and password.\n",
    "\n",
    "For example, to search for the file .hdarc in the $HOME diretory, the user would open a terminale and run the following command:"
   ]
  },
  {
   "cell_type": "raw",
   "metadata": {},
   "source": [
    "find $HOME -type f -name .hdarc"
   ]
  },
  {
   "cell_type": "markdown",
   "metadata": {},
   "source": [
    "Then he could copy the code below in the file \"$HOME/.hdarc\" (in your Unix/Linux environment) and adapt the following template with the credentials of your WEkEO account:"
   ]
  },
  {
   "cell_type": "raw",
   "metadata": {},
   "source": [
    "# your WEkEO API username and password (needs to be in '  ')\n",
    "user_name = '#############'\n",
    "password = '#############'"
   ]
  },
  {
   "cell_type": "markdown",
   "metadata": {},
   "source": [
    "If he doesn't have a WEkEO account, please self register at the <a href='https://my.wekeo.eu/web/guest/user-registration' target='_blank'>WEkEO registration page</a>."
   ]
  },
  {
   "cell_type": "markdown",
   "metadata": {},
   "source": [
    "#### Load data descriptor file and download data"
   ]
  },
  {
   "cell_type": "markdown",
   "metadata": {},
   "source": [
    "The Harmonised Data Access API can read your data request from a dictionary. In this dictionary, you can describe the dataset you are interested in downloading."
   ]
  },
  {
   "cell_type": "code",
   "execution_count": 4,
   "metadata": {},
   "outputs": [
    {
     "data": {
      "text/plain": [
       "{'dataset_id': 'EO:ECMWF:DAT:REANALYSIS_UERRA_EUROPE_SINGLE_LEVELS',\n",
       " 'origin': 'uerra_harmonie',\n",
       " 'variable': '10m_wind_speed',\n",
       " 'year': [\n",
       "    \"1998\",\n",
       "    \"1999\",\n",
       "    \"2000\",\n",
       "    \"2001\",\n",
       "    \"2002\",\n",
       "    \"2003\",\n",
       "    \"2004\",\n",
       "    \"2005\",\n",
       "    \"2006\",\n",
       "    \"2007\",\n",
       "    \"2008\",\n",
       "    \"2009\",\n",
       "    \"2010\",\n",
       "    \"2011\",\n",
       "    \"2012\",\n",
       "    \"2013\",\n",
       "    \"2014\",\n",
       "    \"2015\",\n",
       "    \"2016\",\n",
       "    \"2017\",\n",
       "    \"2018\"\n",
       "  ],\n",
       " 'month': ['12'],\n",
       " 'day': ['15'],\n",
       " 'time': ['12:00'],\n",
       " 'format': 'netcdf'}"
      ]
     },
     "execution_count": 4,
     "metadata": {},
     "output_type": "execute_result"
    }
   ],
   "source": [
    "data = {\n",
    "  \"dataset_id\": \"EO:ECMWF:DAT:REANALYSIS_UERRA_EUROPE_SINGLE_LEVELS\",\n",
    "  \"origin\": \"uerra_harmonie\",\n",
    "  \"variable\": \"10m_wind_speed\",\n",
    "  \"year\": [\n",
    "    \"1998\",\n",
    "    \"1999\",\n",
    "    \"2000\",\n",
    "    \"2001\",\n",
    "    \"2002\",\n",
    "    \"2003\",\n",
    "    \"2004\",\n",
    "    \"2005\",\n",
    "    \"2006\",\n",
    "    \"2007\",\n",
    "    \"2008\",\n",
    "    \"2009\",\n",
    "    \"2010\",\n",
    "    \"2011\",\n",
    "    \"2012\",\n",
    "    \"2013\",\n",
    "    \"2014\",\n",
    "    \"2015\",\n",
    "    \"2016\",\n",
    "    \"2017\",\n",
    "    \"2018\"\n",
    "  ],\n",
    "  \"month\": [\n",
    "    \"12\"\n",
    "  ],\n",
    "  \"day\": [\n",
    "    \"15\"\n",
    "  ],\n",
    "  \"time\": [\n",
    "    \"12:00\"\n",
    "  ],\n",
    "  \"format\": \"netcdf\"\n",
    "}\n",
    "data"
   ]
  },
  {
   "cell_type": "code",
   "execution_count": 5,
   "metadata": {},
   "outputs": [
    {
     "data": {
      "text/plain": [
       "{'dataset_id': 'EO:ECMWF:DAT:REANALYSIS_UERRA_EUROPE_SINGLE_LEVELS',\n",
       " 'origin': 'uerra_harmonie',\n",
       " 'variable': '2m_temperature',\n",
       "  \"year\": [\n",
       "    \"1998\",\n",
       "    \"1999\",\n",
       "    \"2000\",\n",
       "    \"2001\",\n",
       "    \"2002\",\n",
       "    \"2003\",\n",
       "    \"2004\",\n",
       "    \"2005\",\n",
       "    \"2006\",\n",
       "    \"2007\",\n",
       "    \"2008\",\n",
       "    \"2009\",\n",
       "    \"2010\",\n",
       "    \"2011\",\n",
       "    \"2012\",\n",
       "    \"2013\",\n",
       "    \"2014\",\n",
       "    \"2015\",\n",
       "    \"2016\",\n",
       "    \"2017\",\n",
       "    \"2018\"\n",
       "  ],\n",
       " 'month': ['12'],\n",
       " 'day': ['15'],\n",
       " 'time': ['12:00'],\n",
       " 'format': 'netcdf'}"
      ]
     },
     "execution_count": 5,
     "metadata": {},
     "output_type": "execute_result"
    }
   ],
   "source": [
    "data_2 = {\n",
    "  \"dataset_id\": \"EO:ECMWF:DAT:REANALYSIS_UERRA_EUROPE_SINGLE_LEVELS\",\n",
    "  \"origin\": \"uerra_harmonie\",\n",
    "  \"variable\": \"2m_temperature\",\n",
    "  \"year\": [\n",
    "    \"1998\",\n",
    "    \"1999\",\n",
    "    \"2000\",\n",
    "    \"2001\",\n",
    "    \"2002\",\n",
    "    \"2003\",\n",
    "    \"2004\",\n",
    "    \"2005\",\n",
    "    \"2006\",\n",
    "    \"2007\",\n",
    "    \"2008\",\n",
    "    \"2009\",\n",
    "    \"2010\",\n",
    "    \"2011\",\n",
    "    \"2012\",\n",
    "    \"2013\",\n",
    "    \"2014\",\n",
    "    \"2015\",\n",
    "    \"2016\",\n",
    "    \"2017\",\n",
    "    \"2018\"\n",
    "  ],\n",
    "  \"month\": [\n",
    "    \"12\"\n",
    "  ],\n",
    "  \"day\": [\n",
    "    \"15\"\n",
    "  ],\n",
    "  \"time\": [\n",
    "    \"12:00\"\n",
    "  ],\n",
    "  \"format\": \"netcdf\"\n",
    "}\n",
    "data_2"
   ]
  },
  {
   "cell_type": "markdown",
   "metadata": {},
   "source": [
    "As a final step, you can use directly the client to download data as in following example."
   ]
  },
  {
   "cell_type": "code",
   "execution_count": null,
   "metadata": {},
   "outputs": [],
   "source": [
    "c = Client(debug=True)\n",
    "\n",
    "matches = c.search(data)\n",
    "print(matches)\n",
    "matches.download()"
   ]
  },
  {
   "cell_type": "code",
   "execution_count": null,
   "metadata": {},
   "outputs": [],
   "source": [
    "c = Client(debug=True)\n",
    "\n",
    "matches = c.search(data_2)\n",
    "print(matches)\n",
    "matches.download()"
   ]
  },
  {
   "cell_type": "markdown",
   "metadata": {},
   "source": [
    "The code below searches in the directory all the netCDF file and provides the filename of the last one and penultimate downloaded. "
   ]
  },
  {
   "cell_type": "code",
   "execution_count": null,
   "metadata": {},
   "outputs": [],
   "source": [
    "# get filename of latest .nc downloaded file \n",
    "files = [file for file in os.listdir(\".\") if (file.lower().endswith('.nc'))]\n",
    "list_nc_file = []\n",
    "\n",
    "for file in sorted(files,key=os.path.getmtime, reverse=True):\n",
    "    list_nc_file.append(file)\n",
    "    \n",
    "print(f'{list_nc_file[1]} is downloaded from the first data request')\n",
    "print(f'{list_nc_file[0]} is downloaded from the second data request')  "
   ]
  },
  {
   "cell_type": "markdown",
   "metadata": {},
   "source": [
    "In addition the .nc file could be renamed when the download is finished. For example after the first download the original file name may be changed in 'UERRA_ws10m.nc'; while the second one may be 'UERRA_t2m.nc' as follow."
   ]
  },
  {
   "cell_type": "code",
   "execution_count": null,
   "metadata": {},
   "outputs": [],
   "source": [
    "# rename nc file\n",
    "os.rename(list_nc_file[1], 'UERRA_ws10m.nc')\n",
    "os.rename(list_nc_file[0], 'UERRA_t2m.nc')"
   ]
  },
  {
   "cell_type": "markdown",
   "metadata": {},
   "source": [
    "If the operation is not permitted, the user could also right-clicked on a file for manually renaming it. "
   ]
  },
  {
   "cell_type": "markdown",
   "metadata": {},
   "source": [
    "## <a id='read_data'></a>2. Read Data\n",
    "\n",
    "Now that we have downloaded the data, we can start to play ...\n",
    "\n",
    "We have requested the data in NetCDF format. This is a commonly used format for array-oriented scientific data. \n",
    "\n",
    "To read and process this data we will make use of the Xarray library. Xarray is an open source project and Python package that makes working with labelled multi-dimensional arrays simple, efficient, and fun! We will read the data from our NetCDF file into an Xarray **\"dataset\"**"
   ]
  },
  {
   "cell_type": "code",
   "execution_count": null,
   "metadata": {},
   "outputs": [],
   "source": [
    "fw = 'UERRA_ws10m.nc'\n",
    "ft = 'UERRA_t2m.nc'\n",
    "\n",
    "# Create Xarray Dataset\n",
    "dw = xr.open_dataset(fw)\n",
    "dt = xr.open_dataset(ft)"
   ]
  },
  {
   "cell_type": "markdown",
   "metadata": {},
   "source": [
    "Now we can query our newly created Xarray datasets ..."
   ]
  },
  {
   "cell_type": "code",
   "execution_count": null,
   "metadata": {},
   "outputs": [],
   "source": [
    "dw"
   ]
  },
  {
   "cell_type": "code",
   "execution_count": null,
   "metadata": {},
   "outputs": [],
   "source": [
    "dt"
   ]
  },
  {
   "cell_type": "markdown",
   "metadata": {},
   "source": [
    "We see that dw (dataset for wind speed) has one variable called **\"si10\"**. If you view the documentation for this dataset on the CDS you will see that this is the wind speed valid for a grid cell at the height of 10m above the surface. It is computed from both the zonal (u) and the meridional (v) wind components by \n",
    "$\\sqrt{(u^{2} + v^{2})}$.\n",
    "\n",
    "The units are m/s.\n",
    "\n",
    "The other dataset, dt (2m temperature), has a variable called **\"t2m\"**. According to the documentation on the CDS this is air temperature valid for a grid cell at the height of 2m above the surface, in units of Kelvin.\n",
    "\n",
    "While an Xarray **dataset** may contain multiple variables, an Xarray **data array** holds a single multi-dimensional variable and its coordinates. To make the processing of the **si10** and **t2m** data easier, we will convert them into Xarray data arrays."
   ]
  },
  {
   "cell_type": "code",
   "execution_count": null,
   "metadata": {},
   "outputs": [],
   "source": [
    "# Create Xarray Data Arrays\n",
    "aw = dw['si10']\n",
    "at = dt['t2m']"
   ]
  },
  {
   "cell_type": "markdown",
   "metadata": {},
   "source": [
    "## <a id='wind_chill'></a>3. Calculate wind chill index\n",
    "There are several indices to calculate wind chill based on air temperature and wind speed. Until recently, a commonly applied index was the following:\n",
    "\n",
    "$\\textit{WCI} = (10 \\sqrt{\\upsilon}-\\upsilon + 10.5) \\cdot (33 - \\textit{T}_{a})$\n",
    "\n",
    "where:\n",
    "- WCI = wind chill index, $kg*cal/m^{2}/h$\n",
    "- $\\upsilon$ = wind velocity, m/s\n",
    "- $\\textit{T}_{a}$ = air temperature, °C\n",
    "\n",
    "We will use the more recently adopted North American and United Kingdom wind chill index, which is calculated as follows:\n",
    "\n",
    "$\\textit{T}_{WC} = 13.12 + 0.6215\\textit{T}_{a} - 11.37\\upsilon^{0.16} + 0.3965\\textit{T}_{a}\\upsilon^{0.16}$\n",
    "\n",
    "where:\n",
    "- $\\textit{T}_{WC}$ = wind chill index\n",
    "- $\\textit{T}_{a}$ = air temperature in degrees Celsius\n",
    "- $\\upsilon$ = wind speed at 10 m standard anemometer height, in kilometres per hour"
   ]
  },
  {
   "cell_type": "markdown",
   "metadata": {},
   "source": [
    "To calculate $\\textit{T}_{WC}$ we first have to ensure our data is in the right units. For the wind speed we need to convert from m/s to km/h, and for air temperature we need to convert from Kelvin to degrees Celsius:"
   ]
  },
  {
   "cell_type": "code",
   "execution_count": null,
   "metadata": {},
   "outputs": [],
   "source": [
    "# wind speed, convert from m/s to km/h: si10 * 1000 / (60*60)\n",
    "w = aw * 3600 / 1000\n",
    "# air temperature, convert from Kelvin to Celsius: t2m - 273.15\n",
    "t = at - 273.15"
   ]
  },
  {
   "cell_type": "markdown",
   "metadata": {},
   "source": [
    "Now we can calculate the North American and United Kingdom wind chill index:\n",
    "$\\textit{T}_{WC} = 13.12 + 0.6215\\textit{T}_{a} - 11.37\\upsilon^{0.16} + 0.3965\\textit{T}_{a}\\upsilon^{0.16}$"
   ]
  },
  {
   "cell_type": "code",
   "execution_count": null,
   "metadata": {},
   "outputs": [],
   "source": [
    "twc = 13.12 + (0.6215*t) - (11.37*(w**0.16)) + (0.3965*t*(w**0.16))"
   ]
  },
  {
   "cell_type": "markdown",
   "metadata": {},
   "source": [
    "Let's calculate the average wind chill for 12:00 on 15 December for the 20 year period from 1998 to 2019:"
   ]
  },
  {
   "cell_type": "code",
   "execution_count": null,
   "metadata": {},
   "outputs": [],
   "source": [
    "twc_mean = twc.mean(dim='time')"
   ]
  },
  {
   "cell_type": "markdown",
   "metadata": {},
   "source": [
    "Now let's plot the average wind chill for this time over Europe:"
   ]
  },
  {
   "cell_type": "code",
   "execution_count": null,
   "metadata": {},
   "outputs": [],
   "source": [
    "# create the figure panel \n",
    "fig = plt.figure(figsize=(10,10))\n",
    "# create the map using the cartopy Orthographic projection\n",
    "ax = plt.subplot(1,1,1, projection=ccrs.Orthographic(central_longitude=8., central_latitude=42.))\n",
    "# add coastlines\n",
    "ax.coastlines()\n",
    "ax.gridlines(draw_labels=False, linewidth=1, color='gray', alpha=0.5, linestyle='--')\n",
    "# provide a title\n",
    "ax.set_title('Wind Chill Index 12:00, 15 Dec, 1998 to 2019')\n",
    "# plot twc\n",
    "im = plt.pcolormesh(twc_mean.longitude, twc_mean.latitude,\n",
    "                    twc_mean, cmap='viridis', transform=ccrs.PlateCarree())\n",
    "# add colourbar\n",
    "cbar = plt.colorbar(im)\n",
    "cbar.set_label('Wind Chill Index')"
   ]
  },
  {
   "cell_type": "markdown",
   "metadata": {},
   "source": [
    "Can you identify areas where frostbite may occur (see chart below)?\n",
    "\n",
    "<img src='./img/Windchill_effect_en.svg' align='left' width='60%'></img>"
   ]
  },
  {
   "cell_type": "markdown",
   "metadata": {},
   "source": [
    "RicHard-59, CC BY-SA 3.0 <https://creativecommons.org/licenses/by-sa/3.0>, via Wikimedia Commons"
   ]
  },
  {
   "cell_type": "markdown",
   "metadata": {},
   "source": [
    "## <a id='era5'></a>4. Exercise: Repeat process with ERA5 data and compare results\n",
    "So far you have plotted wind chill using the UERRA regional reanalysis dataset, but how accurate is this plot? One way to assess a dataset is to compare it with an alternative independent one to see what differences there may be. An alternative to UERRA is the ERA5 reanalysis data that you used in the previous tutorials. Repeat the steps above with ERA5 and compare your results with those obtained using UERRA."
   ]
  },
  {
   "cell_type": "markdown",
   "metadata": {},
   "source": [
    "<hr>"
   ]
  },
  {
   "cell_type": "markdown",
   "metadata": {},
   "source": [
    "<p><img src='./img/all_partners_wekeo.png' align='left' alt='Logo EU Copernicus' width='100%'></img></p>"
   ]
  }
 ],
 "metadata": {
  "title": "Tutorial on creating a climate index for wind chill",
  "author": "Chris Stewart",
  "description": "In this tutorial, you will plot a map of wind chill over Europe using regional climate reanalysis data (UERRA) of wind speed and temperature.",
  "github": "https://github.com/wekeo/wekeo4climate/blob/main/climate/WEkEO_climate_training_4_indices.ipynb",
  "image": "./img/img_02.png",
  "deployment ": {
        "wekeo": {
              "git": {
                  "link": "https://github.com/wekeo/wekeo4climate/blob/main/climate/WEkEO_climate_training_4_indices.ipynb",
                  "service_contact": "ops@eumetsat.int",
                  "service_provider": "EUMETSAT"},
              "jupyter": {
                  "link": "https://jupyterhub.prod.wekeo2.eu/hub/user-redirect/lab/tree/public/wekeo4climate/climate/wekeo-climate-training/WEkEO_climate_training_4_indices.ipynb",
                  "service_contact": "ops@eumetsat.int",
                  "service_provider": "EUMETSAT"}
         }
   },
   "tags": {
    "theme": "Climate",
    "subtheme": "Wind",
    "service": "C3S",
    "tags": ["UERRA", "ERA5", "air temperature"]
  },
  "kernelspec": {
   "display_name": "Python 3",
   "language": "python",
   "name": "python3"
  },
  "language_info": {
   "codemirror_mode": {
    "name": "ipython",
    "version": 3
   },
   "file_extension": ".py",
   "mimetype": "text/x-python",
   "name": "python",
   "nbconvert_exporter": "python",
   "pygments_lexer": "ipython3",
   "version": "3.7.0"
  }
 },
 "nbformat": 4,
 "nbformat_minor": 4
}
