{
 "cells": [
  {
   "attachments": {},
   "cell_type": "markdown",
   "metadata": {},
   "source": [
    "<img src='https://www.wekeo.eu/images/logo-large.png' div style=\"text-align:center\" width='25%'> \n"
   ]
  },
  {
   "attachments": {},
   "cell_type": "markdown",
   "metadata": {},
   "source": [
    "<div class=\"alert alert-block alert-success\">\n",
    "<h3>CMEMS Reanalysis: Daily and Monthly Mean Time Series, Annual Trends, Mean Seasonals, and Seasonal Anomalies of the Sea Surface Temperature in the Adriatic Sea</h3></div>\n",
    "\n",
    "**Author and Team Leader:**  Özlem ÖZALP <br>\n",
    "**Co-authors:**  Antonio VECOLI and Jacopo ALESSANDRI <br>\n",
    "**Copyright:** 2022 <br>\n",
    "**License:** MIT\n",
    "\n",
    "\n",
    "The Sea Surface Temperature (SST) is an important physical characteristic of the oceans and is the one of the vital component of the <a href=\"https://gcos.wmo.int/en/essential-climate-variables/sst\" target=\"_blank\">climate system</a> . The Adriatic Sea is an elongated basin, located in the central Mediterranean, between the Italian peninsula and the Balkans.The CMEMS Mediterranean Sea Physics Reanalysis time series is provided since 01/01/1987. The SST is defined by selecting the first vertical level of the daily mean of Potential Temperature within the variable name “thetao”. The data is available and can be downloded from the following <a href=\"https://doi.org/10.25423/CMCC/MEDSEA_MULTIYEAR_PHY_006_004_E3R1\" target=\"_blank\">link</a>"
   ]
  },
  {
   "attachments": {},
   "cell_type": "markdown",
   "metadata": {},
   "source": [
    "# **Introduction to WEkEO Notebook**\n",
    "\n",
    "### **Data used**\n",
    "\n",
    "| Product Description | Data Store collection ID| Product Navigator | WEkEO HDA ID | WEkEO metadata |\n",
    "|:--------------------:|:-----------------------:|:-------------:|:-----------------:|:-----------------:|\n",
    "| CMEMS Reanalysis: Daily Mean Potential temperature from 1987 to 2019 | MEDSEA_MULTIYEAR_PHY_006_004  | <a href=\"https://resources.marine.copernicus.eu/product-detail/MEDSEA_MULTIYEAR_PHY_006_004/INFORMATION\" target=\"_blank\">link</a> | EO:MO:DAT:MEDSEA_MULTIYEAR_PHY_006_004/med-cmcc-tem-rean-d | <a href=\"https://www.wekeo.eu/data?view=dataset&dataset=EO%3AMO%3ADAT%3AMEDSEA_MULTIYEAR_PHY_006_004\" target=\"_blank\">link</a> |\n",
    "\n",
    "### **Learning outcomes**\n",
    "\n",
    "In this notebook the SST has been analysed in the Adriatic Sea from 01/01/1987 to 31/12/2019 therefore you will find; \n",
    "\n",
    "* How to analyse the SST Time Series in the Adriatic Sea from CMEMS Mediterranean Sea Physics Reanalysis.\n",
    "* How to generate plots for daily, monthly and annual trends in average temperature.\n",
    "* How to visualize maps of the average seasonals and anomalies.\n"
   ]
  },
  {
   "attachments": {},
   "cell_type": "markdown",
   "metadata": {},
   "source": [
    "\n",
    "<div class=\"alert alert-info\" role=\"alert\">\n",
    "\n",
    "    \n",
    "## <a id='TOC_TOP'></a> Contents\n"
   ]
  },
  {
   "attachments": {},
   "cell_type": "markdown",
   "metadata": {},
   "source": [
    " 1. [Section 1](#section1): Data Preparation: CMEMS Data.\n",
    " \n",
    "**The CODE SECTION includes:**\n",
    "\n",
    "\n",
    " 2. [Section 2](#section2): Functions for the Data Aggregation process: Annual, Winter and Summer Seasons Aggregations.\n",
    " 3. [Section 3](#section3): The SST Data Analysis and Plots: Daily, Monthly, Annual Trends and Standard Deviation.\n",
    " 4. [Section 4](#section4): The Seasonal and Annual Mean Map Visualizations.\n",
    " 5. [Section 5](#section5): The Seasonal Anomalies Map Visualizations.\n",
    " 6. [Section 6](#section6): References.\n",
    " 7. [Section 7](#section7): Challenge.\n",
    "\n",
    "<hr>\n"
   ]
  },
  {
   "attachments": {},
   "cell_type": "markdown",
   "metadata": {},
   "source": [
    "### Outline\n",
    "\n",
    "The first section of the Jupyter Notebook describes how to get the data from CMEMS, then it provides the Python code for:\n",
    "   - Data Aggregation\n",
    "   - Time Series Analysis\n",
    "   - Data Visualization\n",
    "\n",
    "**The Code Section is based on the following elements**\n",
    "\n",
    "1. Required Python Modules\n",
    "        \n",
    "   **The following libraries need to be installed:**\n",
    "        \n",
    "            conda install -c conda-forge xarray dask netCDF4 -y\n",
    "            conda install -c conda-forge cartopy\n",
    "            pip install statsmodels\n",
    "            pip install seaborn\n",
    "            pip install regionmask\n",
    "            pip install pygeos\n",
    "            \n",
    "\n",
    "2. \"functions_cmems.py\" called in the main programme covers:\n",
    "    \n",
    "   The file contains the calling functions to provide necessary methods for the data elaboration. Therefore, in the initial part, it contains the specific functions for the data aggregation, then continuing with time series analysis and visualization functions and finally providing routines for the calculation and visualization of seasonal anomalies. The function names are described in details in the code section step by step.    \n"
   ]
  },
  {
   "attachments": {},
   "cell_type": "markdown",
   "metadata": {},
   "source": [
    "<div class=\"alert alert-info\" role=\"alert\">\n",
    "\n",
    "## <a id='TOC_TOP'></a> [Section 1](#section1): Data Preparation\n",
    "\n",
    "[Back to top](#TOC_TOP)\n",
    "    "
   ]
  },
  {
   "attachments": {},
   "cell_type": "markdown",
   "metadata": {},
   "source": [
    "The first part of the Notebook describes how to get the data from CMEMS. The name of the CMEMS DATA is **Mediterranean Sea Physics Reanalysis**. The dataset name is **med-cmcc-tem-rean-d** and contain 33 years daily information. Thereafter, the dataset is reseized for the Adriatic Sea: \n",
    "\n",
    "     Time= 1987-2019\n",
    "     \n",
    "     Longitude: 12 to 22 E°  and  Latitude: 37 to 46 N° \n",
    "\n",
    "Hence, the Dataset Dimension is:\n",
    "    \n",
    "     Time: 12053 \n",
    "     lat: 216 \n",
    "     lon: 241\n",
    "     depth: 1.01823\n",
    "  \n",
    "And finally a unique output file \"CMEMS_SST\" in netCDF format is prepared for the data aggregation process and can easily downloaded from the <a href=\"https://drive.google.com/drive/u/0/folders/1xTPbAGIs5pmdLXPWyCLLI1ogw3fV6add\" target=\"_blank\">following link</a>. The file size is 2.34 GB.\n",
    "The spatial data in csv format is also present in the <a href=\"https://drive.google.com/drive/u/0/folders/1xTPbAGIs5pmdLXPWyCLLI1ogw3fV6add\" target=\"_blank\">following link</a>."
   ]
  },
  {
   "attachments": {},
   "cell_type": "markdown",
   "metadata": {},
   "source": [
    "<div class=\"alert alert-block alert-warning\">\n",
    "\n",
    "### **Note that**: \n",
    "The winter Season is defined from January to April, and the Summer Season is from July to October in the Adriatic Sea,<a href=\"https://journals.ametsoc.org/view/journals/phoc/27/8/1520-0485_1997_027_1492_tasgcp_2.0.co_2.xml\" target=\"_blank\"> REFERENCE LINK</a>."
   ]
  },
  {
   "attachments": {},
   "cell_type": "markdown",
   "metadata": {},
   "source": [
    "<div class=\"alert alert-danger\" role=\"alert\">\n",
    "\n",
    "## <a id='TOC_TOP'></a> CODE SECTION"
   ]
  },
  {
   "attachments": {},
   "cell_type": "markdown",
   "metadata": {},
   "source": [
    "\n",
    "<div class=\"alert alert-info\" role=\"alert\">\n",
    "\n",
    "## <a id='TOC_TOP'></a> [Section 2](#section2): Functions for the Data Aggregation process.\n",
    "\n",
    "[Back to top](#TOC_TOP)"
   ]
  },
  {
   "attachments": {},
   "cell_type": "markdown",
   "metadata": {},
   "source": [
    "#### **Importing libraries and functions**"
   ]
  },
  {
   "cell_type": "code",
   "execution_count": null,
   "metadata": {},
   "outputs": [],
   "source": [
    "import xarray as xr\n",
    "import pandas as pd\n",
    "import numpy as np\n",
    "import cartopy.feature as cfeature\n",
    "import cartopy.crs as ccrs\n",
    "import matplotlib.pyplot as plt\n",
    "import regionmask\n",
    "import matplotlib.colors\n",
    "\n",
    "import functions_cmems as fc\n",
    "\n",
    "import warnings\n",
    "warnings.resetwarnings()\n",
    "warnings.simplefilter(action='ignore', category=FutureWarning)"
   ]
  },
  {
   "attachments": {},
   "cell_type": "markdown",
   "metadata": {},
   "source": [
    "### **Loading the Data**"
   ]
  },
  {
   "cell_type": "code",
   "execution_count": null,
   "metadata": {},
   "outputs": [],
   "source": [
    "ncRawDataFileName = \"DATA_PATH/WEkEO_SST_DATA/CMEMS_SST.nc\"\n",
    "fc.areaPerimeter =pd.read_csv (\"DATA_PATH/areaAdriatic.csv\")\n",
    "dataOutput = \"DATA_PATH/CMEMS_SST_clipped.nc\""
   ]
  },
  {
   "attachments": {},
   "cell_type": "markdown",
   "metadata": {},
   "source": [
    "\"areaPerimeter\" is delimiting function over the area of interest. In the spatial data, the 1st column is longitude, the 2nd column is latitude. The Clipped file is saved as \"CMEMS_SST_clipped.nc\". "
   ]
  },
  {
   "cell_type": "code",
   "execution_count": null,
   "metadata": {},
   "outputs": [],
   "source": [
    "rawData = xr.open_dataset(ncRawDataFileName)\n",
    "clippedData = fc.ClipDataOnRegion(rawData, fc.areaPerimeter,dataOutput)"
   ]
  },
  {
   "cell_type": "code",
   "execution_count": null,
   "metadata": {},
   "outputs": [],
   "source": [
    "ncRawDataFileName_annual_mean = \"DATA_PATH/CMEMS_SST_clipped.nc\"\n",
    "annualMapsNcFile = \"DATA_PATH/CMEMS_SST_clipped_Annual_Mean.nc\""
   ]
  },
  {
   "cell_type": "code",
   "execution_count": null,
   "metadata": {},
   "outputs": [],
   "source": [
    "rawData_annual_mean = xr.open_dataset(ncRawDataFileName_annual_mean)\n"
   ]
  },
  {
   "attachments": {},
   "cell_type": "markdown",
   "metadata": {},
   "source": [
    "The clipped file has been indexed in \"months\" through the XARRAY library ,then averaged by year and finally saved as \"CMEMS_SST_clipped_Annual_Mean.nc\" by using the <font color='red'> **GenerateAnnualMeanMaps** </font> function\n",
    "\n",
    "* am1 = t.sel(time=AM(t['time.month']))\n",
    "* am2 = am1.groupby('time.year').mean('time')"
   ]
  },
  {
   "cell_type": "code",
   "execution_count": null,
   "metadata": {},
   "outputs": [],
   "source": [
    "clippedData_annual_mean = fc.GenerateAnnualMeanMaps(rawData_annual_mean, annualMapsNcFile)"
   ]
  },
  {
   "attachments": {},
   "cell_type": "markdown",
   "metadata": {},
   "source": [
    "### **The Mean Seasonal Maps have been generated with dimensions (TIME, LAT and LON) from \"CMEMS_SST_clipped.nc\" file.**\n",
    "The new aggregated files have been saved as:\n",
    "\n",
    "##### 1.  \"CMEMS_SST_WINTER_SEASON.nc\" and is defined between January and April by using <font color='red'>       **\"GenerateSeasonalWinter\"** </font> function: \n",
    "\n",
    "        def WINTER(month):\n",
    "    \n",
    "         return (month >= 1) & (month <= 4)\n",
    "      \n",
    "         seasonal_data_winter = t.sel(time=WINTER(t['time.month']))\n",
    "        \n",
    "        \n",
    "##### 2. \"CMEMS_SST_SUMMER_SEASON.nc\" through <font color='red'> **\"GenerateSeasonalSummer\"** </font> function between July and October:\n",
    "\n",
    "        def SUMMER(month):\n",
    "        \n",
    "         return (month >= 7) & (month <= 10)\n",
    "      \n",
    "         seasonal_data_summer = t.sel(time=SUMMER(t['time.month']))\n",
    "\n",
    "##### **The Seasonal means have been calculated from each saved file:**\n",
    "         \n",
    "       seasonal_data_winter1 = seasonal_data_winter.groupby('time.year').mean()\n",
    "       seasonal_data_summer1 = seasonal_data_summer.groupby('time.year').mean()\n",
    "\n",
    "##### **The maximum and minimum Temperatures by Season are also printed:**\n",
    "       \n",
    "       print(\"\",seasonal_data_winter.thetao.min())\n",
    "       print(\"\",seasonal_data_winter.thetao.max())\n",
    "       print(\"\",seasonal_data_summer.thetao.min())\n",
    "       print(\"\",seasonal_data_summer.thetao.max())"
   ]
  },
  {
   "cell_type": "code",
   "execution_count": null,
   "metadata": {},
   "outputs": [],
   "source": [
    "winter_output= \"DATA_PATH/CMEMS_SST_WINTER_SEASON.nc\"\n",
    "summer_output=\"DATA_PATH/CMEMS_SST_SUMMER_SEASON.nc\""
   ]
  },
  {
   "cell_type": "code",
   "execution_count": null,
   "metadata": {},
   "outputs": [],
   "source": [
    "SeasonWinter = fc.GenerateSeasonalWinter(rawData_annual_mean,winter_output)"
   ]
  },
  {
   "cell_type": "code",
   "execution_count": null,
   "metadata": {},
   "outputs": [],
   "source": [
    "SeasonSummer = fc.GenerateSeasonalSummer(rawData_annual_mean,summer_output)"
   ]
  },
  {
   "attachments": {},
   "cell_type": "markdown",
   "metadata": {},
   "source": [
    "### **The following 1D outputs are aggregated SST over the Adriatic Sea.**"
   ]
  },
  {
   "cell_type": "code",
   "execution_count": null,
   "metadata": {},
   "outputs": [],
   "source": [
    "NcFile1Doutput = \"DATA_PATH/CMEMS_SST_clipped_1D_FIXED_DIM.nc\""
   ]
  },
  {
   "cell_type": "code",
   "execution_count": null,
   "metadata": {},
   "outputs": [],
   "source": [
    "clippedfix1=fc.Generate1DFixDim(rawData_annual_mean,NcFile1Doutput)"
   ]
  },
  {
   "cell_type": "code",
   "execution_count": null,
   "metadata": {},
   "outputs": [],
   "source": [
    "NcFile1DoutputCSV= \"DATA_PATH/CMEMS_SST_clipped_1D_FIXED_DIM.csv\""
   ]
  },
  {
   "cell_type": "code",
   "execution_count": null,
   "metadata": {},
   "outputs": [],
   "source": [
    "clippedData1Dcsv = fc.Generate1DFixDimCSV(NcFile1Doutput,NcFile1DoutputCSV)"
   ]
  },
  {
   "cell_type": "code",
   "execution_count": null,
   "metadata": {},
   "outputs": [],
   "source": [
    "clippedData1Dcsv"
   ]
  },
  {
   "attachments": {},
   "cell_type": "markdown",
   "metadata": {},
   "source": [
    "<div class=\"alert alert-info\" role=\"alert\">\n",
    "\n",
    "## <a id='TOC_TOP'></a> [Section 3](#section3): The SST Data Analysis and Plots.\n",
    "\n",
    "[Back to top](#TOC_TOP)"
   ]
  },
  {
   "attachments": {},
   "cell_type": "markdown",
   "metadata": {},
   "source": [
    "The following plots will visualize:\n",
    "<ol>\n",
    "<li>\n",
    "SST Time Series, Daily Trend in the Adriatic Sea,</li>\n",
    "\n",
    "<li> \n",
    "SST Standard Deviation in the Adriatic Sea,</li>\n",
    "\n",
    "<li> \n",
    "SST Annual Trend in the Adriatic Sea,</li>\n",
    "\n",
    "<li> \n",
    "Monthly Mean SST in the Adriatic Sea.</li>\n",
    "\n",
    "</ol>\n"
   ]
  },
  {
   "attachments": {},
   "cell_type": "markdown",
   "metadata": {},
   "source": [
    "The Time Series analysis have been generated from the previously clipped \"CMEMS_SST_clipped_1D_FIXED_DIM\" file in CSV format. Therefore,\n",
    "The <font color='red'> **\"faGenerateDailyTimeSeries\"** </font> function reads the Daily Mean file through pandas and parse dates with taking the list of \"DATE\" column. "
   ]
  },
  {
   "cell_type": "code",
   "execution_count": null,
   "metadata": {},
   "outputs": [],
   "source": [
    "NcFile1DoutputCSV= \"DATA_PATH/CMEMS_SST_clipped_1D_FIXED_DIM.csv\""
   ]
  },
  {
   "cell_type": "code",
   "execution_count": null,
   "metadata": {},
   "outputs": [],
   "source": [
    "ts=fc.GenerateDailyTimeSeries(NcFile1DoutputCSV)"
   ]
  },
  {
   "attachments": {},
   "cell_type": "markdown",
   "metadata": {},
   "source": [
    "The <font color='red'> **\"GenerateDailyTimeSeriesSTD\"** </font> function starts with the **groupby** method to provide information on data in the \"DATE\" column in \"Monthly Mean\".\n",
    "\n",
    "    fy_dt = file2.groupby(pd.Grouper(freq='M')).mean()\n",
    "\n",
    "The window size equal to 12 has been choosen for the moving average calculation to calculate standard deviation by year.\n",
    "\n",
    "     daily_sdT = fy_dt.rolling(window = 12).std()"
   ]
  },
  {
   "cell_type": "code",
   "execution_count": null,
   "metadata": {},
   "outputs": [],
   "source": [
    "ts1=fc.GenerateDailyTimeSeriesSTD(NcFile1DoutputCSV)"
   ]
  },
  {
   "attachments": {},
   "cell_type": "markdown",
   "metadata": {},
   "source": [
    "The <font color='red'> **\"Generate1DTendency\"** </font> function shows the Annual Trend in the Adriatic Sea. The input file is a 1-Dimensional file in netCDF format.\n",
    "Hence, the Linear Regression has been calculated, once the data frame for the Annual Mean has been created.  \n",
    "\n",
    "    fy_1D= t.mean(dim=(lat_name, lon_name), skipna=True)    \n",
    "    fy_dt = fy_1D.groupby('time.year').mean()\n",
    "    df = fy_dt.to_dataframe().reset_index().set_index('year')\n",
    "    \n",
    "The horizontal axis has \"df.index\" by year while vertical axis has the Temperature with the variable name \"thetao\" in the Cartesian coordinate system."
   ]
  },
  {
   "cell_type": "code",
   "execution_count": null,
   "metadata": {},
   "outputs": [],
   "source": [
    "ncRawDataFileName_clipped = \"DATA_PATH/CMEMS_SST_clipped.nc\"\n",
    "rawData1_clipped = xr.open_dataset(ncRawDataFileName_clipped)"
   ]
  },
  {
   "cell_type": "code",
   "execution_count": null,
   "metadata": {},
   "outputs": [],
   "source": [
    "NcFile1Doutput = \"DATA_PATH/CMEMS_SST_clipped_1D_FIXED_DIM.nc\"\n",
    "clippedfix1Tendency=fc.Generate1DTendency(rawData1_clipped,NcFile1Doutput)"
   ]
  },
  {
   "attachments": {},
   "cell_type": "markdown",
   "metadata": {},
   "source": [
    "The <font color='red'> **\"GenerateDailyTimeSeriesPLOT\"** </font> function shows the Monthly Mean with Violin Plot in the Adriatic Sea. The input file is a 1-Dimensional file in CSV format. The Data distribution is shown by using the Seaborn Library. \n",
    "The month names are converted in their full names with: \n",
    "\n",
    "     file2['month'] = [d.strftime('%b') for d in file2.DATE]\n",
    "     "
   ]
  },
  {
   "cell_type": "code",
   "execution_count": null,
   "metadata": {},
   "outputs": [],
   "source": [
    "ts_monthly=fc.GenerateDailyTimeSeriesPLOT(NcFile1DoutputCSV)"
   ]
  },
  {
   "attachments": {},
   "cell_type": "markdown",
   "metadata": {},
   "source": [
    "<div class=\"alert alert-info\" role=\"alert\">\n",
    "\n",
    "## <a id='TOC_TOP'></a> [Section 4](#section4): The Seasonal and Annual Mean Map Visualizations\n",
    "    \n",
    "[Back to top](#TOC_TOP)"
   ]
  },
  {
   "attachments": {},
   "cell_type": "markdown",
   "metadata": {},
   "source": [
    "Each map has been displayed with the following steps:\n",
    "    \n",
    "1. Loading the data variable for each selected period of time both seasonal and annual mean with dimensions of (time, lat, lon) and the spatial data to mask out the missing values.\n",
    "2. The Mean Temperatures for each time coverage have been calculated.\n",
    "3. Data masking for the area of interest through the vectorized library pygoes.\n",
    "4. The Plate Carrée projection with the coastline has been selected for the map.\n",
    "5. A heatmap generation for maximum and minimum temperature toghether with its contour line. \n",
    "6. The colour bar has been set."
   ]
  },
  {
   "cell_type": "code",
   "execution_count": null,
   "metadata": {},
   "outputs": [],
   "source": [
    "t_summer = xr.open_dataset('DATA_PATH/CMEMS_SST_SUMMER_SEASON.nc')\n",
    "t_winter = xr.open_dataset('DATA_PATH/CMEMS_SST_WINTER_SEASON.nc')\n",
    "t_annual_mean = xr.open_dataset('DATA_PATH/CMEMS_SST_clipped_Annual_Mean.nc')"
   ]
  },
  {
   "cell_type": "code",
   "execution_count": null,
   "metadata": {},
   "outputs": [],
   "source": [
    "t_summer,t_winter,t_annual_mean"
   ]
  },
  {
   "cell_type": "code",
   "execution_count": null,
   "metadata": {},
   "outputs": [],
   "source": [
    "file_csv_area_1= pd.read_csv('DATA_PATH/areaAdriatic.csv')"
   ]
  },
  {
   "attachments": {},
   "cell_type": "markdown",
   "metadata": {},
   "source": [
    "##### **The xarray.DataArray with Summer Period and geographical coordinates is shown:**"
   ]
  },
  {
   "cell_type": "code",
   "execution_count": null,
   "metadata": {},
   "outputs": [],
   "source": [
    "temp_summer = t_summer['thetao'][:,:,:]\n",
    "temp_summer"
   ]
  },
  {
   "attachments": {},
   "cell_type": "markdown",
   "metadata": {},
   "source": [
    "##### **The xarray.DataArray with Winter Period and geographical coordinates is shown:**"
   ]
  },
  {
   "cell_type": "code",
   "execution_count": null,
   "metadata": {},
   "outputs": [],
   "source": [
    "temp_winter = t_winter['thetao'][:,:,:]\n",
    "temp_winter"
   ]
  },
  {
   "attachments": {},
   "cell_type": "markdown",
   "metadata": {},
   "source": [
    "##### **And finally, the xarray.DataArray with Annual Mean and geographical coordinates is as follows: (the Time period is 33 years as noted before).**"
   ]
  },
  {
   "cell_type": "code",
   "execution_count": null,
   "metadata": {},
   "outputs": [],
   "source": [
    "temp_annual_mean = t_annual_mean['thetao'][:,:,:]\n",
    "temp_annual_mean"
   ]
  },
  {
   "attachments": {},
   "cell_type": "markdown",
   "metadata": {},
   "source": [
    "**Maximum and Minimum Mean Temperatures for each time coverage follow:**"
   ]
  },
  {
   "cell_type": "code",
   "execution_count": null,
   "metadata": {},
   "outputs": [],
   "source": [
    "temp_summer_av= np.mean(temp_summer[:],axis = 0)\n",
    "temp_summer_av.min(),temp_summer_av.max()"
   ]
  },
  {
   "cell_type": "code",
   "execution_count": null,
   "metadata": {},
   "outputs": [],
   "source": [
    "temp_winter_av= np.mean(temp_winter[:],axis = 0)\n",
    "temp_winter_av.min(),temp_winter_av.max()"
   ]
  },
  {
   "cell_type": "code",
   "execution_count": null,
   "metadata": {},
   "outputs": [],
   "source": [
    "temp_annual_mean_av= np.mean(temp_annual_mean[:],axis = 0)\n",
    "temp_annual_mean_av.min(),temp_annual_mean_av.max()"
   ]
  },
  {
   "cell_type": "code",
   "execution_count": null,
   "metadata": {},
   "outputs": [],
   "source": [
    "lon_name_summer   = temp_summer.lon[:]\n",
    "lat_name_summer   = temp_summer.lat[:]\n",
    "\n",
    "lon_name_winter   = temp_winter.lon[:]\n",
    "lat_name_winter   = temp_winter.lat[:]\n",
    "\n",
    "lon_name_annual_mean   = temp_annual_mean.lon[:]\n",
    "lat_name_annual_mean   = temp_annual_mean.lat[:]"
   ]
  },
  {
   "attachments": {},
   "cell_type": "markdown",
   "metadata": {},
   "source": [
    "**Masking the area for the Adriatic Sea during the Summer Season**"
   ]
  },
  {
   "cell_type": "code",
   "execution_count": null,
   "metadata": {},
   "outputs": [],
   "source": [
    "outline_adriatic = np.array(file_csv_area_1)\n",
    "\n",
    "region_area_adriatic = regionmask.Regions([outline_adriatic])"
   ]
  },
  {
   "cell_type": "code",
   "execution_count": null,
   "metadata": {},
   "outputs": [],
   "source": [
    "mask_pygeos_area_summer = region_area_adriatic.mask(t_summer.thetao, method=\"pygeos\")\n",
    "LON, LAT = np.meshgrid(lon_name_summer, lat_name_summer)"
   ]
  },
  {
   "cell_type": "code",
   "execution_count": null,
   "metadata": {},
   "outputs": [],
   "source": [
    "thetao_area_summer = temp_summer_av.values\n",
    "thetao_area_summer[np.isnan(mask_pygeos_area_summer)] = np.nan"
   ]
  },
  {
   "cell_type": "code",
   "execution_count": null,
   "metadata": {},
   "outputs": [],
   "source": [
    "thetao_area_summer"
   ]
  },
  {
   "attachments": {},
   "cell_type": "markdown",
   "metadata": {},
   "source": [
    "**Masking the area for the Adriatic Sea during the Winter Season**"
   ]
  },
  {
   "cell_type": "code",
   "execution_count": null,
   "metadata": {},
   "outputs": [],
   "source": [
    "mask_pygeos_area_winter = region_area_adriatic.mask(t_winter.thetao, method=\"pygeos\")\n",
    "LON1, LAT1 = np.meshgrid(lon_name_winter, lat_name_winter)"
   ]
  },
  {
   "cell_type": "code",
   "execution_count": null,
   "metadata": {},
   "outputs": [],
   "source": [
    "thetao_area_winter = temp_winter_av.values\n",
    "thetao_area_winter[np.isnan(mask_pygeos_area_winter)] = np.nan"
   ]
  },
  {
   "cell_type": "code",
   "execution_count": null,
   "metadata": {},
   "outputs": [],
   "source": [
    "thetao_area_winter"
   ]
  },
  {
   "attachments": {},
   "cell_type": "markdown",
   "metadata": {},
   "source": [
    "**Masking the area for the Adriatic Sea for the Annual Mean**"
   ]
  },
  {
   "cell_type": "code",
   "execution_count": null,
   "metadata": {},
   "outputs": [],
   "source": [
    "mask_pygeos_area_annual_mean = region_area_adriatic.mask(t_annual_mean.thetao, method=\"pygeos\")\n",
    "LON2, LAT2 = np.meshgrid(lon_name_annual_mean, lat_name_annual_mean)"
   ]
  },
  {
   "cell_type": "code",
   "execution_count": null,
   "metadata": {},
   "outputs": [],
   "source": [
    "thetao_area_annual_mean = temp_annual_mean_av.values\n",
    "thetao_area_annual_mean[np.isnan(mask_pygeos_area_annual_mean)] = np.nan"
   ]
  },
  {
   "cell_type": "code",
   "execution_count": null,
   "metadata": {},
   "outputs": [],
   "source": [
    "thetao_area_annual_mean"
   ]
  },
  {
   "cell_type": "code",
   "execution_count": null,
   "metadata": {},
   "outputs": [],
   "source": [
    "fig = plt.figure(figsize=(16, 10))\n",
    "ax = plt.subplot(projection=ccrs.PlateCarree())\n",
    "\n",
    "heatmap=temp_summer_av.plot(\n",
    "    ax=ax,\n",
    "    x=\"lon\",\n",
    "    y=\"lat\",\n",
    "    transform=ccrs.PlateCarree(),\n",
    "    cmap=\"jet\",\n",
    "    shading=\"auto\",\n",
    "    add_colorbar=False,\n",
    "    vmin=temp_summer_av.min(),\n",
    "    vmax=temp_summer_av.max()\n",
    ")\n",
    "lines=temp_summer_av.plot.contour(ax=ax,alpha=1,linewidths=0.3,colors = 'k',linestyles='None',levels=60)\n",
    "# the level of contour lines= (vmax-vmin)*10\n",
    "\n",
    "\n",
    "g1 = ax.gridlines(draw_labels = True)\n",
    "g1.xlabel_style = {'size': 16, 'color': 'k'}\n",
    "g1.ylabel_style = {'size': 16, 'color': 'k'}\n",
    "#add embellishment\n",
    "\n",
    "\n",
    "ax.add_feature(cfeature.COASTLINE,linewidths=0.7,alpha=0.9999)\n",
    "\n",
    "\n",
    "\n",
    "plt.title(\"CMEMS REANALYSIS: Summer Seasonal Mean SST in the Adriatic Sea\\nfrom 1987 to 2019\\n\",fontweight='bold', size=14)\n",
    "cbar = plt.colorbar(heatmap)\n",
    "cbar.ax.set_ylabel('Temperature [°C]',labelpad=+14, rotation=270)\n",
    "\n",
    "plt.text(17,44,'          Months:\\n     July,August\\nSeptember,October',fontsize=12,bbox = dict(facecolor = 'gray', alpha = 0.5))\n",
    "plt.tight_layout()\n",
    "plt.savefig('image_outputs/SummerSeasonalMean.png')\n",
    "\n",
    "plt.show()"
   ]
  },
  {
   "cell_type": "code",
   "execution_count": null,
   "metadata": {},
   "outputs": [],
   "source": [
    "fig = plt.figure(figsize=(16, 10))\n",
    "ax = plt.subplot(projection=ccrs.PlateCarree())\n",
    "heatmap=temp_winter_av.plot(\n",
    "    ax=ax,\n",
    "    x=\"lon\",\n",
    "    y=\"lat\",\n",
    "    transform=ccrs.PlateCarree(),\n",
    "    cmap=\"jet\",\n",
    "    shading=\"auto\",\n",
    "    add_colorbar=False,\n",
    "    vmin=temp_winter_av.min(),\n",
    "    vmax=temp_winter_av.max()\n",
    ")\n",
    "\n",
    "lines=temp_winter_av.plot.contour(ax=ax,alpha=1,linewidths=0.3,colors = 'k',linestyles='None',levels=70)\n",
    "# the level of contour lines= (vmax-vmin)*10\n",
    "\n",
    "g1 = ax.gridlines(draw_labels = True)\n",
    "g1.xlabel_style = {'size': 16, 'color': 'k'}\n",
    "g1.ylabel_style = {'size': 16, 'color': 'k'}\n",
    "#add embellishment\n",
    "\n",
    "\n",
    "\n",
    "\n",
    "ax.add_feature(cfeature.COASTLINE,linewidths=0.7,alpha=0.9999)\n",
    "\n",
    "\n",
    "\n",
    "plt.title(\"CMEMS REANALYSIS: Winter Seasonal Mean SST in the Adriatic Sea\\nfrom 1987 to 2019\\n\\n\",fontweight='bold', size=14)\n",
    "cbar = plt.colorbar(heatmap)\n",
    "cbar.ax.set_ylabel('Temperature [°C]', labelpad=+14,rotation=270)\n",
    "\n",
    "plt.text(17.5,44,'          Months:\\n     January,Februay\\n   September,October',fontsize=12,bbox = dict(facecolor = 'gray', alpha = 0.5))\n",
    "plt.tight_layout()\n",
    "plt.savefig('image_outputs/WinterSeasonalMean.png')\n",
    "\n",
    "plt.show()"
   ]
  },
  {
   "cell_type": "code",
   "execution_count": null,
   "metadata": {},
   "outputs": [],
   "source": [
    "fig = plt.figure(figsize=(16, 10))\n",
    "ax = plt.subplot(projection=ccrs.PlateCarree())\n",
    "hetmap=temp_annual_mean_av.plot(\n",
    "    ax=ax,\n",
    "    x=\"lon\",\n",
    "    y=\"lat\",\n",
    "    transform=ccrs.PlateCarree(),\n",
    "    cmap=\"jet\",\n",
    "    shading=\"auto\",\n",
    "    add_colorbar=False,\n",
    "    vmin=temp_annual_mean_av.min(),\n",
    "    vmax=temp_annual_mean_av.max()\n",
    ")\n",
    "\n",
    "lines=temp_annual_mean_av.plot.contour(ax=ax,alpha=1,linewidths=0.3,colors = 'k',linestyles='None',levels=50)\n",
    "# the level of contour lines= (vmax-vmin)*10\n",
    "\n",
    "g1 = ax.gridlines(draw_labels = True)\n",
    "g1.xlabel_style = {'size': 16, 'color': 'k'}\n",
    "g1.ylabel_style = {'size': 16, 'color': 'k'}\n",
    "#add embellishment\n",
    "\n",
    "\n",
    "\n",
    "\n",
    "ax.add_feature(cfeature.COASTLINE,linewidths=0.7,alpha=0.9999)\n",
    "\n",
    "plt.title(\"CMEMS REANALYSIS: Annual Mean SST in the Adriatic Sea\\nfrom 1987 to 2019\\n\",fontweight='bold', size=14)\n",
    "\n",
    "cbar = plt.colorbar(heatmap)\n",
    "cbar.ax.set_ylabel('Temperature [°C]', labelpad=+10, rotation=270)\n",
    "\n",
    "\n",
    "plt.tight_layout()\n",
    "plt.savefig('image_outputs/AnnualSeasonalMean.png')\n",
    "\n",
    "plt.show()"
   ]
  },
  {
   "attachments": {},
   "cell_type": "markdown",
   "metadata": {},
   "source": [
    "<div class=\"alert alert-info\" role=\"alert\">\n",
    "\n",
    "## <a id='TOC_TOP'></a> [Section 5](#section5): The Seasonal Anomalies Map Visualizations.\n",
    "    \n",
    "[Back to top](#TOC_TOP)"
   ]
  },
  {
   "attachments": {},
   "cell_type": "markdown",
   "metadata": {},
   "source": [
    "Load previously generated files to calculate the Seasonal Anomalies:\n",
    "1. \"Aggregations/CMEMS_SST_SUMMER_SEASON.nc\"\n",
    "2. \"Aggregations/CMEMS_SST_WINTER_SEASON.nc\"\n",
    "\n",
    "And,\n",
    "\n",
    "3. \"WEkEO_PART_1_Aggregations/areaAdriatic.csv\" to Mask out the missing values.\n",
    "\n",
    "The Seasonal Anomalies have been calculated through the  <font color='red'> **\"computeSenSlopeMap\"** </font> function.\n",
    "\"Sen Slope\" is a method for robust linear regression. It computes the slope as the median of all slopes (in our case all seasonal mean) between paired values.\n",
    "\n",
    "\n",
    "The \"xr.apply_ufunc\" is a vectorization function for unlabeled arrays on xarray objects and it is used to create seasonal maps."
   ]
  },
  {
   "cell_type": "code",
   "execution_count": null,
   "metadata": {},
   "outputs": [],
   "source": [
    "ncRawDataFileName_summer = \"Aggregations/CMEMS_SST_SUMMER_SEASON.nc\"\n",
    "ncRawDataFileName_winter = \"Aggregations/CMEMS_SST_WINTER_SEASON.nc\""
   ]
  },
  {
   "cell_type": "code",
   "execution_count": null,
   "metadata": {},
   "outputs": [],
   "source": [
    "NcFileDoutput_summer_anomal = \"Aggregations/SummerAnomalyOutput.nc\"\n",
    "NcFileDoutput_winter_anomal = \"Aggregations/WinterAnomalyOutput.nc\""
   ]
  },
  {
   "cell_type": "code",
   "execution_count": null,
   "metadata": {},
   "outputs": [],
   "source": [
    "rawData_SUMMER_anomaly = xr.open_dataset(ncRawDataFileName_summer)\n",
    "rawData_WINTER_anomaly = xr.open_dataset(ncRawDataFileName_winter)"
   ]
  },
  {
   "cell_type": "code",
   "execution_count": null,
   "metadata": {},
   "outputs": [],
   "source": [
    "summerAnomalyFile=fc.computeSenSlopeMap(ncRawDataFileName_summer,NcFileDoutput_summer_anomal)"
   ]
  },
  {
   "cell_type": "code",
   "execution_count": null,
   "metadata": {},
   "outputs": [],
   "source": [
    "winterAnomalyFile=fc.computeSenSlopeMap(ncRawDataFileName_winter,NcFileDoutput_winter_anomal)"
   ]
  },
  {
   "cell_type": "code",
   "execution_count": null,
   "metadata": {},
   "outputs": [],
   "source": [
    "summer_anomaly_vis = xr.open_dataset(\"Aggregations/SummerAnomalyOutput.nc\")"
   ]
  },
  {
   "cell_type": "code",
   "execution_count": null,
   "metadata": {},
   "outputs": [],
   "source": [
    "lon_name_summer   = summer_anomaly_vis.lon[:]\n",
    "lat_name_summer  = summer_anomaly_vis.lat[:]\n",
    "time_name_summer  = 'year'\n",
    "depth_name_summer = 'depth'\n",
    "temp_summer = summer_anomaly_vis.thetao[:]"
   ]
  },
  {
   "cell_type": "code",
   "execution_count": null,
   "metadata": {},
   "outputs": [],
   "source": [
    "outline_1 = np.array(file_csv_area_1)\n",
    "\n",
    "region_area_1 = regionmask.Regions([outline_1])"
   ]
  },
  {
   "cell_type": "code",
   "execution_count": null,
   "metadata": {},
   "outputs": [],
   "source": [
    "mask_pygeos_area_1 = region_area_1.mask(summer_anomaly_vis.thetao, method=\"pygeos\")\n",
    "LON, LAT = np.meshgrid(lon_name_summer, lat_name_summer)"
   ]
  },
  {
   "cell_type": "code",
   "execution_count": null,
   "metadata": {},
   "outputs": [],
   "source": [
    "thetao_area_1 = summer_anomaly_vis.thetao.values\n",
    "thetao_area_1[np.isnan(mask_pygeos_area_1)] = np.nan"
   ]
  },
  {
   "cell_type": "code",
   "execution_count": null,
   "metadata": {},
   "outputs": [],
   "source": [
    "fig = plt.figure(figsize=(16, 10))\n",
    "ax = plt.subplot(projection=ccrs.PlateCarree())\n",
    "cmap = matplotlib.colors.LinearSegmentedColormap.from_list(\"\", [\"#653700\",\"red\",\"white\",\"blue\",\"#00035b\"]) \n",
    "#new colorbar generation\n",
    "\n",
    "heatmap=summer_anomaly_vis.thetao.plot(\n",
    "    ax=ax,\n",
    "    x=\"lon\",\n",
    "    y=\"lat\",\n",
    "    transform=ccrs.PlateCarree(),\n",
    "    cmap=cmap.reversed(),\n",
    "    shading=\"auto\",\n",
    "    add_colorbar=False,\n",
    "    vmin=-0.06,\n",
    "    vmax=0.06\n",
    ")\n",
    "\n",
    "lines=summer_anomaly_vis.thetao.plot.contour(ax=ax,alpha=1,linewidths=0.3,colors = 'k',linestyles='None',levels=30)\n",
    "\n",
    "g1 = ax.gridlines(draw_labels = True)\n",
    "g1.xlabel_style = {'size': 16, 'color': 'k'}\n",
    "g1.ylabel_style = {'size': 16, 'color': 'k'}\n",
    "#add embellishment\n",
    "\n",
    "\n",
    "\n",
    "\n",
    "ax.add_feature(cfeature.COASTLINE,linewidths=0.7,alpha=0.9999)\n",
    "\n",
    "\n",
    "plt.title(\"CMEMS REANALYSIS:SST Summer Season Anomalies in the Adriatic Sea\\nfrom 1987 to 2019\\n\",fontweight='bold', size=14)\n",
    "\n",
    "plt.tight_layout()\n",
    "plt.savefig('image_outputs/SummerSEasonAnnomalies.png')\n",
    "\n",
    "cbar = plt.colorbar(heatmap)\n",
    "cbar.ax.set_ylabel('Temperature [°C]',labelpad=+10, rotation=270)\n",
    "\n",
    "plt.text(18,44,'          Months:\\n       July,August\\nSeptember,October',fontsize=12,bbox = dict(facecolor = 'gray', alpha = 0.5))\n",
    "\n",
    "plt.tight_layout()\n",
    "\n",
    "plt.show()\n"
   ]
  },
  {
   "cell_type": "code",
   "execution_count": null,
   "metadata": {},
   "outputs": [],
   "source": [
    "winter_anomaly_vis = xr.open_dataset(\"Aggregations/WinterAnomalyOutput.nc\")"
   ]
  },
  {
   "cell_type": "code",
   "execution_count": null,
   "metadata": {},
   "outputs": [],
   "source": [
    "lon_name_winter   = winter_anomaly_vis.lon[:]\n",
    "lat_name_winter  = winter_anomaly_vis.lat[:]\n",
    "time_name_winter  = 'year'\n",
    "depth_name_winter = 'depth'\n",
    "temp_winter = winter_anomaly_vis.thetao[:]"
   ]
  },
  {
   "cell_type": "code",
   "execution_count": null,
   "metadata": {},
   "outputs": [],
   "source": [
    "outline_1 = np.array(file_csv_area_1)\n",
    "\n",
    "region_area_1 = regionmask.Regions([outline_1])"
   ]
  },
  {
   "cell_type": "code",
   "execution_count": null,
   "metadata": {},
   "outputs": [],
   "source": [
    "mask_pygeos_area_1 = region_area_1.mask(winter_anomaly_vis.thetao, method=\"pygeos\")\n",
    "LON, LAT = np.meshgrid(lon_name_winter, lat_name_winter)"
   ]
  },
  {
   "cell_type": "code",
   "execution_count": null,
   "metadata": {},
   "outputs": [],
   "source": [
    "thetao_area_1 = winter_anomaly_vis.thetao.values\n",
    "thetao_area_1[np.isnan(mask_pygeos_area_1)] = np.nan"
   ]
  },
  {
   "cell_type": "code",
   "execution_count": null,
   "metadata": {},
   "outputs": [],
   "source": [
    "fig = plt.figure(figsize=(16, 10))\n",
    "ax = plt.subplot(projection=ccrs.PlateCarree())\n",
    "cmap = matplotlib.colors.LinearSegmentedColormap.from_list(\"\", [\"#653700\",\"red\",\"white\",\"blue\",\"#00035b\"]) \n",
    "#new colorbar generation\n",
    "\n",
    "heatmap=winter_anomaly_vis.thetao.plot(\n",
    "    ax=ax,\n",
    "    x=\"lon\",\n",
    "    y=\"lat\",\n",
    "    transform=ccrs.PlateCarree(),\n",
    "    cmap=cmap.reversed(),\n",
    "    shading=\"auto\",\n",
    "    add_colorbar=False,\n",
    "    vmin=-0.06,\n",
    "    vmax=0.06\n",
    ")\n",
    "\n",
    "lines=winter_anomaly_vis.thetao.plot.contour(ax=ax,alpha=1,linewidths=0.3,colors = 'k',linestyles='None',levels=30)\n",
    "\n",
    "g1 = ax.gridlines(draw_labels = True)\n",
    "g1.xlabel_style = {'size': 16, 'color': 'k'}\n",
    "g1.ylabel_style = {'size': 16, 'color': 'k'}\n",
    "#add embellishment\n",
    "\n",
    "\n",
    "\n",
    "\n",
    "ax.add_feature(cfeature.COASTLINE,linewidths=0.7,alpha=0.9999)\n",
    "\n",
    "\n",
    "plt.title(\"CMEMS REANALYSIS:SST Winter Season Anomalies in the Adriatic Sea\\nfrom 1987 to 2019\\n\",fontweight='bold', size=14)\n",
    "\n",
    "plt.tight_layout()\n",
    "plt.savefig('image_outputs/WinterSEasonAnnomalies.png')\n",
    "\n",
    "cbar = plt.colorbar(heatmap)\n",
    "cbar.ax.set_ylabel('Temperature [°C]',labelpad=+10, rotation=270)\n",
    "\n",
    "plt.text(18,44,'          Months:\\n   January,February\\n       March,April',fontsize=12,bbox = dict(facecolor = 'gray', alpha = 0.5))\n",
    "\n",
    "plt.tight_layout()\n",
    "\n",
    "plt.show()"
   ]
  },
  {
   "attachments": {},
   "cell_type": "markdown",
   "metadata": {},
   "source": [
    "<div class=\"alert alert-block alert-warning\">\n",
    "\n",
    "### Challenge:\n",
    "    \n",
    "<div>\n",
    "\n",
    "The same script can be used in different area of interest for instance, over the Alboran Sea.\n",
    "    In the following link <a href=\"https://drive.google.com/drive/u/0/folders/14-IFWR8Ro58BPxJfO4skp3sNqRxIQ6JU\" target=\"_blank\">link</a> you can find the input data and the spatial data. \n",
    "    \n",
    "    \n",
    "    The dataset name is CMEMS_SST_AlboranSea.nc and contain 25 years daily information. Thereafter, the dataset is reseized for the Alboran sea through the alboranSea.csv file:\n",
    "\n",
    "         Time= 1995-2019\n",
    "\n",
    "         Longitude: -6 to -2 E°  and  Latitude: 34 to -37 N° \n",
    "    Hence, the Dataset Dimension is:\n",
    "\n",
    "         Time: 9131 \n",
    "         lat: 39 \n",
    "         lon: 97\n",
    "         depth: 1.01823\n",
    "      "
   ]
  },
  {
   "attachments": {},
   "cell_type": "markdown",
   "metadata": {},
   "source": [
    "<div class=\"alert alert-info\" role=\"alert\">\n",
    "\n",
    "## <a id='TOC_TOP'></a> [Section 6](#section6): References\n",
    "    \n",
    "* WEkEO <a href=\"https://www.wekeo.eu/\" target=\"_blank\">LINK</a>\n",
    "\n",
    "* Copernicus Marine <a href=\"https://marine.copernicus.eu/\" target=\"_blank\">LINK</a>\n",
    "    \n",
    "* Mediterranean Sea Physics Reanalysis <a href=\"https://resources.marine.copernicus.eu/product-detail/MEDSEA_MULTIYEAR_PHY_006_004/INFORMATION\" target=\"_blank\">LINK</a>\n",
    "\n",
    "* WEkEO Data-- EO:MO:DAT:MEDSEA_MULTIYEAR_PHY_006_004 <a href=\"https://www.wekeo.eu/data?view=dataset&dataset=EO%3AMO%3ADAT%3AMEDSEA_MULTIYEAR_PHY_006_004&initial=1\" target=\"_blank\">LINK</a>\n",
    "\n",
    "* Global Climate Observing Sysem - GCOS WMO: Sea Surface Temperature (SST) <a href=\"https://gcos.wmo.int/en/essential-climate-variables/sst\" target=\"_blank\">LINK</a>\n",
    "    \n",
    "\n",
    "* \"The Adriatic Sea General Circulation. Part I: Air–Sea Interactions and Water Mass Structure\"  <a href=\"https://doi.org/10.1175/1520-0485(1997)027\" target=\"_blank\">DOI</a>"
   ]
  },
  {
   "cell_type": "code",
   "execution_count": null,
   "metadata": {},
   "outputs": [],
   "source": []
  }
 ],
 "metadata": {
  "title": "CMEMS Reanalysis: Seasonal and Annual Trends of the Sea Surface Temperature in the Adriatic Sea",
  "author": "Ozlem Ozalp",
  "image": "./images/chart.png",
  "description": "The Sea Surface Temperature (SST) is an important physical characteristic of the oceans. The Adriatic Sea is an elongated basin, located in the central Mediterranean, between the Italian peninsula and the Balkans.The CMEMS Mediterranean Sea Physics Reanalysis time series is provided from 01/01/1987 to 31/12/2019. The SST is defined by selecting the first vertical level of the daily mean of Potential Temperature within the variable name “thetao”.",
  "deployment": {
       "wekeo": {
            "git": {
               "link": "https://github.com/wekeo/wekeo4climate/blob/main/climate/adriatic-sea-temp-reanalysis/SST_WEkEO_Competition_Nereide.ipynb",
               "service_contact": "ops@eumetsat.int",
               "service_provider": "EUMETSAT"},
            "jupyter": {
               "link": "https://jupyterhub.prod.wekeo2.eu/hub/user-redirect/lab/tree/public/wekeo4climate/climate/adriatic-sea-temp-reanalysis/SST_WEkEO_Competition_Nereide.ipynb",
               "service_contact": "ops@eumetsat.int",
               "service_provider": "EUMETSAT"}
      }
  },
  "tags": {
   "theme": ["Climate", "Marine"],
   "subtheme": "Marine",
   "service": "CMEMS",
   "tags": ["Reanalysis",
    "Sea Surface Temperature",
    "Mediterranean Sea"
   ]
  },
  "kernelspec": {
   "display_name": "Python 3 (ipykernel)",
   "language": "python",
   "name": "python3"
  },
  "language_info": {
   "codemirror_mode": {
    "name": "ipython",
    "version": 3
   },
   "file_extension": ".py",
   "mimetype": "text/x-python",
   "name": "python",
   "nbconvert_exporter": "python",
   "pygments_lexer": "ipython3",
   "version": "3.8.6"
  }
 },
 "nbformat": 4,
 "nbformat_minor": 4
}
